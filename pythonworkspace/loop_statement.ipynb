{
 "cells": [
  {
   "cell_type": "code",
   "execution_count": 1,
   "metadata": {},
   "outputs": [],
   "source": [
    "# 0 1 2 3\n",
    "# 1 2 3 4\n",
    "# 2 3 4 5\n",
    "# 3 4 5 6"
   ]
  },
  {
   "cell_type": "code",
   "execution_count": 4,
   "metadata": {},
   "outputs": [
    {
     "name": "stdout",
     "output_type": "stream",
     "text": [
      "0 1 2 3 \n",
      "1 2 3 4 \n",
      "2 3 4 5 \n",
      "3 4 5 6 \n"
     ]
    }
   ],
   "source": [
    "for a in range(4):\n",
    "    for b in range(4):\n",
    "        print(a + b, end=\" \")\n",
    "    print(\"\")"
   ]
  },
  {
   "cell_type": "code",
   "execution_count": 7,
   "metadata": {},
   "outputs": [
    {
     "name": "stdout",
     "output_type": "stream",
     "text": [
      "0 1 2 3 \n",
      "1 2 3 4 \n",
      "2 3 4 5 \n",
      "3 4 5 6 \n"
     ]
    }
   ],
   "source": [
    "for start in range(4):\n",
    "    for value in range(start, start + 4):\n",
    "        print(value, end=\" \")\n",
    "    print(\"\")"
   ]
  },
  {
   "cell_type": "code",
   "execution_count": 12,
   "metadata": {},
   "outputs": [
    {
     "name": "stdout",
     "output_type": "stream",
     "text": [
      "1,3\n",
      "2,2\n",
      "2,6\n",
      "3,1\n",
      "3,5\n",
      "4,4\n",
      "5,3\n",
      "6,2\n",
      "6,6\n"
     ]
    }
   ],
   "source": [
    "for a in range(1, 7):\n",
    "    for b in range(1, 7):\n",
    "        if (a + b) % 4 == 0:\n",
    "            print(f'{a},{b}')"
   ]
  },
  {
   "cell_type": "code",
   "execution_count": 17,
   "metadata": {},
   "outputs": [
    {
     "name": "stdout",
     "output_type": "stream",
     "text": [
      "64.0\n",
      "256.0\n",
      "256.0\n",
      "1024.0\n",
      "256.0\n",
      "1024.0\n",
      "1024.0\n",
      "4096.0\n",
      "256.0\n",
      "1024.0\n",
      "1024.0\n",
      "4096.0\n",
      "1024.0\n",
      "4096.0\n",
      "4096.0\n",
      "16384\n"
     ]
    }
   ],
   "source": [
    "for day1 in range(2):\n",
    "    for day2 in range(2):\n",
    "        for day3 in range(2):\n",
    "            for day4 in range(2):\n",
    "                print(1024 * 2**(2*day1 - 1) * 2**(2*day2 - 1) * 2**(2*day3 - 1) * 2**(2*day4 - 1))\n"
   ]
  },
  {
   "cell_type": "code",
   "execution_count": 19,
   "metadata": {},
   "outputs": [
    {
     "name": "stdout",
     "output_type": "stream",
     "text": [
      "0\n",
      "1\n",
      "3\n",
      "6\n",
      "10\n",
      "15\n",
      "21\n",
      "28\n",
      "36\n",
      "45\n"
     ]
    }
   ],
   "source": [
    "for count in range(1, 11):\n",
    "    sum = 0\n",
    "    for value in range(count):\n",
    "        sum += value\n",
    "    print(sum)"
   ]
  },
  {
   "cell_type": "code",
   "execution_count": 25,
   "metadata": {},
   "outputs": [
    {
     "name": "stdout",
     "output_type": "stream",
     "text": [
      "220\n"
     ]
    }
   ],
   "source": [
    "sum = 0\n",
    "for count in range(1, 11):\n",
    "    for value in range(count + 1):\n",
    "        sum += value\n",
    "print(sum)"
   ]
  }
 ],
 "metadata": {
  "kernelspec": {
   "display_name": "Python 3",
   "language": "python",
   "name": "python3"
  },
  "language_info": {
   "codemirror_mode": {
    "name": "ipython",
    "version": 3
   },
   "file_extension": ".py",
   "mimetype": "text/x-python",
   "name": "python",
   "nbconvert_exporter": "python",
   "pygments_lexer": "ipython3",
   "version": "3.12.2"
  }
 },
 "nbformat": 4,
 "nbformat_minor": 2
}
